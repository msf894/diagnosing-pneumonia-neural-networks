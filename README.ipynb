{
 "cells": [
  {
   "cell_type": "markdown",
   "metadata": {},
   "source": [
    "# Introduction:"
   ]
  },
  {
   "cell_type": "markdown",
   "metadata": {},
   "source": [
    "The computing power of neural networks is one that has harnessed into a vast number of fields and industries. Due to their ability to detect complex patterns and learning how to improve their accuracy, it has been especially effective in the realm of image classification. The medical field has been especially invested in using neural networks for diagnosing patients from medical scans for accuracy and faster turnaround times. The purpose of this project was to develop a neural network that is capable of identifying pneumonia from chest x-rays of patients. Over the course of this project, I reiterated through several designs and architectures attempting to improve overall accuracy and recall for detecting pneumonia."
   ]
  },
  {
   "cell_type": "markdown",
   "metadata": {
    "ExecuteTime": {
     "end_time": "2020-09-19T21:27:01.895066Z",
     "start_time": "2020-09-19T21:27:01.813067Z"
    }
   },
   "source": [
    "![xray images](/images/xray_images.png)"
   ]
  },
  {
   "cell_type": "markdown",
   "metadata": {},
   "source": [
    "# Data Information:"
   ]
  },
  {
   "cell_type": "markdown",
   "metadata": {},
   "source": [
    "The dataset used consisted of nearly 6,000 chest x-rays of pediatric patients from the from Guangzhou Women and Children’s Medical Center. The images have already been pre-classified as whether the patient had pneumonia or not. These images were already pre-split into different folders for testing, training, and validation. The dataset provided was taken from Kaggle at the following link: https://www.kaggle.com/paultimothymooney/chest-xray-pneumonia"
   ]
  },
  {
   "cell_type": "markdown",
   "metadata": {},
   "source": [
    "# Models and Results:"
   ]
  },
  {
   "cell_type": "markdown",
   "metadata": {},
   "source": [
    "I initially developed multiple convolutional neural networks(CNNs) with different architectures as a baseline measurement for performance. CNNs have been especially used for image classification due to their ability to detect and learn complex patterns within image regions. I also used several pretrained neural networks, specifically VGG19 and Xception. These pretrained models have already been trained on datasets consisting of millions of images and can act as a general model that can be applied for various problems\n",
    "\n",
    "The primary metrics used for evaluating the models were overall accuracy and recall for pneumonia patients. I wanted to develop a model that would not only perform well overall but one that was particularly effective at diagnosing pneumonia correctly. A patient with pneumonia that is incorrectly diagnosed as healthy could suffer serious complications, especially the high risk infants and children from which we have these images from."
   ]
  },
  {
   "cell_type": "markdown",
   "metadata": {},
   "source": [
    "![neural network results](/images/Neural_Network_Results.png)"
   ]
  },
  {
   "cell_type": "markdown",
   "metadata": {},
   "source": [
    "Out of all the models tested, Xception performed the best in terms of overall accuracy and recall. Xception achieved an 88% overall accuracy and 83% recall on patients with pneumonia."
   ]
  },
  {
   "cell_type": "markdown",
   "metadata": {},
   "source": [
    "![Xception_Results](/images/Xception_Results.png)"
   ]
  },
  {
   "cell_type": "markdown",
   "metadata": {},
   "source": [
    "# Conclusion:"
   ]
  },
  {
   "cell_type": "markdown",
   "metadata": {},
   "source": [
    "Pre-trained neural networks seemed to have the best performance of all the models tested, specifically Xception. For future projects, I'd like to look into implementing neural networks for diagnosing other illnesses that can be detected though medical scans, such as cancer or COVID-19. I'd also like to explore other and larger datasets for x-rays in the hopes of creating a specialized neural network specifically for x-rays to detect anomalies. Lastly, I want to see if this technology performs well with other mediums of medical imaging such as CT and MRI scans."
   ]
  }
 ],
 "metadata": {
  "kernelspec": {
   "display_name": "Python 3",
   "language": "python",
   "name": "python3"
  },
  "language_info": {
   "codemirror_mode": {
    "name": "ipython",
    "version": 3
   },
   "file_extension": ".py",
   "mimetype": "text/x-python",
   "name": "python",
   "nbconvert_exporter": "python",
   "pygments_lexer": "ipython3",
   "version": "3.7.6"
  },
  "toc": {
   "base_numbering": 1,
   "nav_menu": {},
   "number_sections": false,
   "sideBar": true,
   "skip_h1_title": false,
   "title_cell": "Table of Contents",
   "title_sidebar": "Contents",
   "toc_cell": false,
   "toc_position": {
    "height": "calc(100% - 180px)",
    "left": "10px",
    "top": "150px",
    "width": "384px"
   },
   "toc_section_display": true,
   "toc_window_display": true
  },
  "varInspector": {
   "cols": {
    "lenName": 16,
    "lenType": 16,
    "lenVar": 40
   },
   "kernels_config": {
    "python": {
     "delete_cmd_postfix": "",
     "delete_cmd_prefix": "del ",
     "library": "var_list.py",
     "varRefreshCmd": "print(var_dic_list())"
    },
    "r": {
     "delete_cmd_postfix": ") ",
     "delete_cmd_prefix": "rm(",
     "library": "var_list.r",
     "varRefreshCmd": "cat(var_dic_list()) "
    }
   },
   "types_to_exclude": [
    "module",
    "function",
    "builtin_function_or_method",
    "instance",
    "_Feature"
   ],
   "window_display": false
  }
 },
 "nbformat": 4,
 "nbformat_minor": 4
}
